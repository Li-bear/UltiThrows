{
 "cells": [
  {
   "cell_type": "markdown",
   "id": "fa58bfa2",
   "metadata": {},
   "source": [
    "# Install and import dependencies"
   ]
  },
  {
   "cell_type": "code",
   "execution_count": 1,
   "id": "28b04eb2",
   "metadata": {
    "scrolled": true
   },
   "outputs": [
    {
     "name": "stdout",
     "output_type": "stream",
     "text": [
      "Collecting mediapipe\n",
      "  Obtaining dependency information for mediapipe from https://files.pythonhosted.org/packages/ed/b1/978712efb3c370eca2d4224d1cac4582561f594eb759ba1ed4a082e9a704/mediapipe-0.10.8-cp311-cp311-win_amd64.whl.metadata\n",
      "  Downloading mediapipe-0.10.8-cp311-cp311-win_amd64.whl.metadata (9.8 kB)\n",
      "Collecting opencv-python\n",
      "  Obtaining dependency information for opencv-python from https://files.pythonhosted.org/packages/38/d2/3e8c13ffc37ca5ebc6f382b242b44acb43eb489042e1728407ac3904e72f/opencv_python-4.8.1.78-cp37-abi3-win_amd64.whl.metadata\n",
      "  Downloading opencv_python-4.8.1.78-cp37-abi3-win_amd64.whl.metadata (20 kB)\n",
      "Collecting absl-py (from mediapipe)\n",
      "  Obtaining dependency information for absl-py from https://files.pythonhosted.org/packages/01/e4/dc0a1dcc4e74e08d7abedab278c795eef54a224363bb18f5692f416d834f/absl_py-2.0.0-py3-none-any.whl.metadata\n",
      "  Downloading absl_py-2.0.0-py3-none-any.whl.metadata (2.3 kB)\n",
      "Requirement already satisfied: attrs>=19.1.0 in c:\\users\\alcas\\anaconda3\\lib\\site-packages (from mediapipe) (22.1.0)\n",
      "Collecting flatbuffers>=2.0 (from mediapipe)\n",
      "  Obtaining dependency information for flatbuffers>=2.0 from https://files.pythonhosted.org/packages/6f/12/d5c79ee252793ffe845d58a913197bfa02ae9a0b5c9bc3dc4b58d477b9e7/flatbuffers-23.5.26-py2.py3-none-any.whl.metadata\n",
      "  Downloading flatbuffers-23.5.26-py2.py3-none-any.whl.metadata (850 bytes)\n",
      "Requirement already satisfied: matplotlib in c:\\users\\alcas\\anaconda3\\lib\\site-packages (from mediapipe) (3.7.2)\n",
      "Requirement already satisfied: numpy in c:\\users\\alcas\\anaconda3\\lib\\site-packages (from mediapipe) (1.24.3)\n",
      "Collecting opencv-contrib-python (from mediapipe)\n",
      "  Obtaining dependency information for opencv-contrib-python from https://files.pythonhosted.org/packages/81/3c/bbb3ceee9fbefc505f98c24dafda68c7b3c4f83b6951c0712b4623fe4cce/opencv_contrib_python-4.8.1.78-cp37-abi3-win_amd64.whl.metadata\n",
      "  Downloading opencv_contrib_python-4.8.1.78-cp37-abi3-win_amd64.whl.metadata (20 kB)\n",
      "Collecting protobuf<4,>=3.11 (from mediapipe)\n",
      "  Downloading protobuf-3.20.3-py2.py3-none-any.whl (162 kB)\n",
      "     ---------------------------------------- 0.0/162.1 kB ? eta -:--:--\n",
      "     -------------- ------------------------ 61.4/162.1 kB 1.6 MB/s eta 0:00:01\n",
      "     -------------------------------------- 162.1/162.1 kB 2.4 MB/s eta 0:00:00\n",
      "Collecting sounddevice>=0.4.4 (from mediapipe)\n",
      "  Downloading sounddevice-0.4.6-py3-none-win_amd64.whl (199 kB)\n",
      "     ---------------------------------------- 0.0/199.7 kB ? eta -:--:--\n",
      "     -------------------------------------- 199.7/199.7 kB 6.1 MB/s eta 0:00:00\n",
      "Requirement already satisfied: CFFI>=1.0 in c:\\users\\alcas\\anaconda3\\lib\\site-packages (from sounddevice>=0.4.4->mediapipe) (1.15.1)\n",
      "Requirement already satisfied: contourpy>=1.0.1 in c:\\users\\alcas\\anaconda3\\lib\\site-packages (from matplotlib->mediapipe) (1.0.5)\n",
      "Requirement already satisfied: cycler>=0.10 in c:\\users\\alcas\\anaconda3\\lib\\site-packages (from matplotlib->mediapipe) (0.11.0)\n",
      "Requirement already satisfied: fonttools>=4.22.0 in c:\\users\\alcas\\anaconda3\\lib\\site-packages (from matplotlib->mediapipe) (4.25.0)\n",
      "Requirement already satisfied: kiwisolver>=1.0.1 in c:\\users\\alcas\\anaconda3\\lib\\site-packages (from matplotlib->mediapipe) (1.4.4)\n",
      "Requirement already satisfied: packaging>=20.0 in c:\\users\\alcas\\anaconda3\\lib\\site-packages (from matplotlib->mediapipe) (23.1)\n",
      "Requirement already satisfied: pillow>=6.2.0 in c:\\users\\alcas\\anaconda3\\lib\\site-packages (from matplotlib->mediapipe) (9.4.0)\n",
      "Requirement already satisfied: pyparsing<3.1,>=2.3.1 in c:\\users\\alcas\\anaconda3\\lib\\site-packages (from matplotlib->mediapipe) (3.0.9)\n",
      "Requirement already satisfied: python-dateutil>=2.7 in c:\\users\\alcas\\anaconda3\\lib\\site-packages (from matplotlib->mediapipe) (2.8.2)\n",
      "Requirement already satisfied: pycparser in c:\\users\\alcas\\anaconda3\\lib\\site-packages (from CFFI>=1.0->sounddevice>=0.4.4->mediapipe) (2.21)\n",
      "Requirement already satisfied: six>=1.5 in c:\\users\\alcas\\anaconda3\\lib\\site-packages (from python-dateutil>=2.7->matplotlib->mediapipe) (1.16.0)\n",
      "Downloading mediapipe-0.10.8-cp311-cp311-win_amd64.whl (50.5 MB)\n",
      "   ---------------------------------------- 0.0/50.5 MB ? eta -:--:--\n",
      "   ---------------------------------------- 0.5/50.5 MB 11.1 MB/s eta 0:00:05\n",
      "    --------------------------------------- 0.9/50.5 MB 9.6 MB/s eta 0:00:06\n",
      "   - -------------------------------------- 1.4/50.5 MB 11.2 MB/s eta 0:00:05\n",
      "   - -------------------------------------- 2.0/50.5 MB 10.8 MB/s eta 0:00:05\n",
      "   - -------------------------------------- 2.5/50.5 MB 10.6 MB/s eta 0:00:05\n",
      "   -- ------------------------------------- 3.1/50.5 MB 11.2 MB/s eta 0:00:05\n",
      "   -- ------------------------------------- 3.7/50.5 MB 11.7 MB/s eta 0:00:05\n",
      "   --- ------------------------------------ 3.8/50.5 MB 11.6 MB/s eta 0:00:05\n",
      "   --- ------------------------------------ 4.3/50.5 MB 10.6 MB/s eta 0:00:05\n",
      "   --- ------------------------------------ 4.9/50.5 MB 10.5 MB/s eta 0:00:05\n",
      "   ---- ----------------------------------- 5.2/50.5 MB 10.3 MB/s eta 0:00:05\n",
      "   ---- ----------------------------------- 5.2/50.5 MB 10.3 MB/s eta 0:00:05\n",
      "   ---- ----------------------------------- 5.6/50.5 MB 9.4 MB/s eta 0:00:05\n",
      "   ----- ---------------------------------- 6.3/50.5 MB 9.9 MB/s eta 0:00:05\n",
      "   ----- ---------------------------------- 6.9/50.5 MB 10.0 MB/s eta 0:00:05\n",
      "   ------ --------------------------------- 7.7/50.5 MB 10.4 MB/s eta 0:00:05\n",
      "   ------ --------------------------------- 7.7/50.5 MB 9.8 MB/s eta 0:00:05\n",
      "   ------ --------------------------------- 8.2/50.5 MB 10.1 MB/s eta 0:00:05\n",
      "   ------ --------------------------------- 8.3/50.5 MB 9.4 MB/s eta 0:00:05\n",
      "   ------ --------------------------------- 8.8/50.5 MB 9.5 MB/s eta 0:00:05\n",
      "   ------- -------------------------------- 9.4/50.5 MB 9.8 MB/s eta 0:00:05\n",
      "   ------- -------------------------------- 9.9/50.5 MB 9.9 MB/s eta 0:00:05\n",
      "   -------- ------------------------------- 10.3/50.5 MB 9.9 MB/s eta 0:00:05\n",
      "   -------- ------------------------------- 10.6/50.5 MB 9.6 MB/s eta 0:00:05\n",
      "   -------- ------------------------------- 10.9/50.5 MB 9.6 MB/s eta 0:00:05\n",
      "   -------- ------------------------------- 11.0/50.5 MB 9.2 MB/s eta 0:00:05\n",
      "   -------- ------------------------------- 11.4/50.5 MB 9.4 MB/s eta 0:00:05\n",
      "   --------- ------------------------------ 12.2/50.5 MB 9.5 MB/s eta 0:00:05\n",
      "   --------- ------------------------------ 12.2/50.5 MB 9.5 MB/s eta 0:00:05\n",
      "   --------- ------------------------------ 12.3/50.5 MB 8.6 MB/s eta 0:00:05\n",
      "   ---------- ----------------------------- 13.3/50.5 MB 9.1 MB/s eta 0:00:05\n",
      "   ---------- ----------------------------- 13.8/50.5 MB 8.8 MB/s eta 0:00:05\n",
      "   ----------- ---------------------------- 14.4/50.5 MB 9.1 MB/s eta 0:00:04\n",
      "   ----------- ---------------------------- 14.6/50.5 MB 9.4 MB/s eta 0:00:04\n",
      "   ----------- ---------------------------- 15.1/50.5 MB 9.0 MB/s eta 0:00:04\n",
      "   ------------ --------------------------- 15.3/50.5 MB 8.8 MB/s eta 0:00:04\n",
      "   ------------ --------------------------- 15.6/50.5 MB 9.2 MB/s eta 0:00:04\n",
      "   ------------ --------------------------- 15.7/50.5 MB 9.0 MB/s eta 0:00:04\n",
      "   ------------ --------------------------- 16.0/50.5 MB 8.8 MB/s eta 0:00:04\n",
      "   ------------ --------------------------- 16.3/50.5 MB 8.6 MB/s eta 0:00:04\n",
      "   ------------ --------------------------- 16.3/50.5 MB 8.6 MB/s eta 0:00:04\n",
      "   ------------- -------------------------- 17.1/50.5 MB 8.3 MB/s eta 0:00:05\n",
      "   ------------- -------------------------- 17.5/50.5 MB 8.1 MB/s eta 0:00:05\n",
      "   -------------- ------------------------- 18.5/50.5 MB 9.0 MB/s eta 0:00:04\n",
      "   -------------- ------------------------- 18.7/50.5 MB 8.8 MB/s eta 0:00:04\n",
      "   --------------- ------------------------ 19.1/50.5 MB 8.8 MB/s eta 0:00:04\n",
      "   --------------- ------------------------ 19.9/50.5 MB 9.0 MB/s eta 0:00:04\n",
      "   --------------- ------------------------ 20.1/50.5 MB 8.5 MB/s eta 0:00:04\n",
      "   ---------------- ----------------------- 21.4/50.5 MB 9.6 MB/s eta 0:00:04\n",
      "   ----------------- ---------------------- 22.1/50.5 MB 10.1 MB/s eta 0:00:03\n",
      "   ------------------ --------------------- 22.9/50.5 MB 11.1 MB/s eta 0:00:03\n",
      "   ------------------ --------------------- 23.5/50.5 MB 10.4 MB/s eta 0:00:03\n",
      "   ------------------- -------------------- 24.9/50.5 MB 11.9 MB/s eta 0:00:03\n",
      "   -------------------- ------------------- 26.0/50.5 MB 14.2 MB/s eta 0:00:02\n",
      "   --------------------- ------------------ 27.4/50.5 MB 17.7 MB/s eta 0:00:02\n",
      "   --------------------- ------------------ 27.7/50.5 MB 17.7 MB/s eta 0:00:02\n",
      "   ---------------------- ----------------- 28.6/50.5 MB 16.8 MB/s eta 0:00:02\n",
      "   ----------------------- ---------------- 29.6/50.5 MB 19.9 MB/s eta 0:00:02\n",
      "   ------------------------ --------------- 31.4/50.5 MB 22.6 MB/s eta 0:00:01\n",
      "   ------------------------- -------------- 32.3/50.5 MB 21.8 MB/s eta 0:00:01\n",
      "   -------------------------- ------------- 33.3/50.5 MB 24.3 MB/s eta 0:00:01\n",
      "   --------------------------- ------------ 34.3/50.5 MB 24.2 MB/s eta 0:00:01\n",
      "   --------------------------- ------------ 35.3/50.5 MB 22.6 MB/s eta 0:00:01\n",
      "   ---------------------------- ----------- 36.1/50.5 MB 21.8 MB/s eta 0:00:01\n",
      "   ----------------------------- ---------- 37.0/50.5 MB 21.9 MB/s eta 0:00:01\n",
      "   ----------------------------- ---------- 37.8/50.5 MB 21.1 MB/s eta 0:00:01\n",
      "   ------------------------------ --------- 38.8/50.5 MB 22.6 MB/s eta 0:00:01\n",
      "   ------------------------------- -------- 39.7/50.5 MB 21.8 MB/s eta 0:00:01\n",
      "   -------------------------------- ------- 40.7/50.5 MB 22.6 MB/s eta 0:00:01\n",
      "   -------------------------------- ------- 40.8/50.5 MB 20.5 MB/s eta 0:00:01\n",
      "   -------------------------------- ------- 41.5/50.5 MB 18.7 MB/s eta 0:00:01\n",
      "   --------------------------------- ------ 42.3/50.5 MB 18.7 MB/s eta 0:00:01\n",
      "   ---------------------------------- ----- 43.0/50.5 MB 18.2 MB/s eta 0:00:01\n",
      "   ---------------------------------- ----- 43.5/50.5 MB 17.2 MB/s eta 0:00:01\n",
      "   ---------------------------------- ----- 44.0/50.5 MB 17.7 MB/s eta 0:00:01\n",
      "   ----------------------------------- ---- 45.0/50.5 MB 16.8 MB/s eta 0:00:01\n",
      "   ------------------------------------ --- 45.6/50.5 MB 16.4 MB/s eta 0:00:01\n",
      "   ------------------------------------ --- 46.6/50.5 MB 16.4 MB/s eta 0:00:01\n",
      "   ------------------------------------- -- 47.5/50.5 MB 17.2 MB/s eta 0:00:01\n",
      "   -------------------------------------- - 48.3/50.5 MB 16.4 MB/s eta 0:00:01\n",
      "   -------------------------------------- - 49.2/50.5 MB 16.8 MB/s eta 0:00:01\n",
      "   ---------------------------------------  50.1/50.5 MB 16.4 MB/s eta 0:00:01\n",
      "   ---------------------------------------  50.5/50.5 MB 16.0 MB/s eta 0:00:01\n",
      "   ---------------------------------------  50.5/50.5 MB 16.0 MB/s eta 0:00:01\n",
      "   ---------------------------------------  50.5/50.5 MB 16.0 MB/s eta 0:00:01\n",
      "   ---------------------------------------- 50.5/50.5 MB 11.9 MB/s eta 0:00:00\n",
      "Downloading opencv_python-4.8.1.78-cp37-abi3-win_amd64.whl (38.1 MB)\n",
      "   ---------------------------------------- 0.0/38.1 MB ? eta -:--:--\n",
      "   - -------------------------------------- 1.6/38.1 MB 50.2 MB/s eta 0:00:01\n",
      "   -- ------------------------------------- 2.5/38.1 MB 32.0 MB/s eta 0:00:02\n",
      "   --- ------------------------------------ 3.0/38.1 MB 23.7 MB/s eta 0:00:02\n",
      "   ---- ----------------------------------- 3.9/38.1 MB 22.4 MB/s eta 0:00:02\n",
      "   ---- ----------------------------------- 4.8/38.1 MB 21.7 MB/s eta 0:00:02\n",
      "   ------ --------------------------------- 6.0/38.1 MB 22.5 MB/s eta 0:00:02\n",
      "   ------- -------------------------------- 7.0/38.1 MB 23.6 MB/s eta 0:00:02\n",
      "   ------- -------------------------------- 7.4/38.1 MB 22.4 MB/s eta 0:00:02\n",
      "   -------- ------------------------------- 7.9/38.1 MB 19.5 MB/s eta 0:00:02\n",
      "   --------- ------------------------------ 9.1/38.1 MB 20.0 MB/s eta 0:00:02\n",
      "   ---------- ----------------------------- 9.9/38.1 MB 19.8 MB/s eta 0:00:02\n",
      "   ----------- ---------------------------- 10.8/38.1 MB 19.3 MB/s eta 0:00:02\n",
      "   ------------ --------------------------- 11.6/38.1 MB 19.3 MB/s eta 0:00:02\n",
      "   ------------ --------------------------- 12.4/38.1 MB 18.7 MB/s eta 0:00:02\n",
      "   ------------- -------------------------- 13.2/38.1 MB 18.7 MB/s eta 0:00:02\n",
      "   -------------- ------------------------- 14.0/38.1 MB 18.2 MB/s eta 0:00:02\n",
      "   --------------- ------------------------ 14.3/38.1 MB 17.7 MB/s eta 0:00:02\n",
      "   ---------------- ----------------------- 15.4/38.1 MB 17.7 MB/s eta 0:00:02\n",
      "   ----------------- ---------------------- 16.4/38.1 MB 17.2 MB/s eta 0:00:02\n",
      "   ------------------ --------------------- 17.3/38.1 MB 17.2 MB/s eta 0:00:02\n",
      "   ------------------- -------------------- 18.5/38.1 MB 18.7 MB/s eta 0:00:02\n",
      "   ------------------- -------------------- 18.8/38.1 MB 19.3 MB/s eta 0:00:01\n",
      "   -------------------- ------------------- 19.4/38.1 MB 17.7 MB/s eta 0:00:02\n",
      "   --------------------- ------------------ 20.4/38.1 MB 17.7 MB/s eta 0:00:01\n",
      "   ---------------------- ----------------- 21.0/38.1 MB 16.8 MB/s eta 0:00:02\n",
      "   ---------------------- ----------------- 21.8/38.1 MB 16.8 MB/s eta 0:00:01\n",
      "   ----------------------- ---------------- 22.4/38.1 MB 16.8 MB/s eta 0:00:01\n",
      "   ------------------------ --------------- 23.5/38.1 MB 17.7 MB/s eta 0:00:01\n",
      "   -------------------------- ------------- 24.9/38.1 MB 18.7 MB/s eta 0:00:01\n",
      "   --------------------------- ------------ 25.7/38.1 MB 18.2 MB/s eta 0:00:01\n",
      "   --------------------------- ------------ 26.4/38.1 MB 18.2 MB/s eta 0:00:01\n",
      "   ---------------------------- ----------- 27.2/38.1 MB 18.2 MB/s eta 0:00:01\n",
      "   ----------------------------- ---------- 28.0/38.1 MB 17.3 MB/s eta 0:00:01\n",
      "   ------------------------------ --------- 29.1/38.1 MB 18.2 MB/s eta 0:00:01\n",
      "   ------------------------------- -------- 30.1/38.1 MB 19.3 MB/s eta 0:00:01\n",
      "   --------------------------------- ------ 31.4/38.1 MB 20.5 MB/s eta 0:00:01\n",
      "   ---------------------------------- ----- 32.4/38.1 MB 20.5 MB/s eta 0:00:01\n",
      "   ---------------------------------- ----- 33.3/38.1 MB 21.1 MB/s eta 0:00:01\n",
      "   ------------------------------------ --- 34.3/38.1 MB 20.5 MB/s eta 0:00:01\n",
      "   ------------------------------------ --- 35.1/38.1 MB 19.9 MB/s eta 0:00:01\n",
      "   ------------------------------------- -- 36.1/38.1 MB 19.9 MB/s eta 0:00:01\n",
      "   -------------------------------------- - 36.7/38.1 MB 20.5 MB/s eta 0:00:01\n",
      "   ---------------------------------------  37.8/38.1 MB 21.1 MB/s eta 0:00:01\n",
      "   ---------------------------------------  38.1/38.1 MB 20.5 MB/s eta 0:00:01\n",
      "   ---------------------------------------  38.1/38.1 MB 20.5 MB/s eta 0:00:01\n",
      "   ---------------------------------------  38.1/38.1 MB 20.5 MB/s eta 0:00:01\n",
      "   ---------------------------------------- 38.1/38.1 MB 14.9 MB/s eta 0:00:00\n",
      "Downloading flatbuffers-23.5.26-py2.py3-none-any.whl (26 kB)\n",
      "Downloading absl_py-2.0.0-py3-none-any.whl (130 kB)\n",
      "   ---------------------------------------- 0.0/130.2 kB ? eta -:--:--\n",
      "   ---------------------------------------- 130.2/130.2 kB 7.5 MB/s eta 0:00:00\n",
      "Downloading opencv_contrib_python-4.8.1.78-cp37-abi3-win_amd64.whl (44.8 MB)\n",
      "   ---------------------------------------- 0.0/44.8 MB ? eta -:--:--\n",
      "    --------------------------------------- 0.8/44.8 MB 47.4 MB/s eta 0:00:01\n",
      "   - -------------------------------------- 1.6/44.8 MB 20.5 MB/s eta 0:00:03\n",
      "   -- ------------------------------------- 2.7/44.8 MB 21.3 MB/s eta 0:00:02\n",
      "   --- ------------------------------------ 3.9/44.8 MB 20.7 MB/s eta 0:00:02\n",
      "   ---- ----------------------------------- 4.7/44.8 MB 21.4 MB/s eta 0:00:02\n",
      "   ---- ----------------------------------- 5.3/44.8 MB 18.8 MB/s eta 0:00:03\n",
      "   ----- ---------------------------------- 6.1/44.8 MB 19.6 MB/s eta 0:00:02\n",
      "   ------ --------------------------------- 6.9/44.8 MB 18.5 MB/s eta 0:00:03\n",
      "   ------ --------------------------------- 7.6/44.8 MB 18.0 MB/s eta 0:00:03\n",
      "   ------- -------------------------------- 8.3/44.8 MB 17.7 MB/s eta 0:00:03\n",
      "   -------- ------------------------------- 9.3/44.8 MB 17.9 MB/s eta 0:00:02\n",
      "   -------- ------------------------------- 9.9/44.8 MB 17.6 MB/s eta 0:00:02\n",
      "   --------- ------------------------------ 10.8/44.8 MB 17.3 MB/s eta 0:00:02\n",
      "   ---------- ----------------------------- 11.7/44.8 MB 17.7 MB/s eta 0:00:02\n",
      "   ----------- ---------------------------- 12.8/44.8 MB 17.7 MB/s eta 0:00:02\n",
      "   ------------ --------------------------- 13.5/44.8 MB 17.2 MB/s eta 0:00:02\n",
      "   ------------ --------------------------- 14.3/44.8 MB 17.2 MB/s eta 0:00:02\n",
      "   ------------- -------------------------- 15.1/44.8 MB 16.8 MB/s eta 0:00:02\n",
      "   -------------- ------------------------- 16.2/44.8 MB 17.2 MB/s eta 0:00:02\n",
      "   --------------- ------------------------ 16.9/44.8 MB 17.7 MB/s eta 0:00:02\n",
      "   ---------------- ----------------------- 18.0/44.8 MB 18.2 MB/s eta 0:00:02\n",
      "   ---------------- ----------------------- 18.8/44.8 MB 18.7 MB/s eta 0:00:02\n",
      "   ----------------- ---------------------- 20.0/44.8 MB 18.7 MB/s eta 0:00:02\n",
      "   ------------------ --------------------- 21.2/44.8 MB 20.5 MB/s eta 0:00:02\n",
      "   ------------------- -------------------- 21.9/44.8 MB 19.9 MB/s eta 0:00:02\n",
      "   -------------------- ------------------- 23.0/44.8 MB 19.8 MB/s eta 0:00:02\n",
      "   --------------------- ------------------ 24.0/44.8 MB 19.9 MB/s eta 0:00:02\n",
      "   ---------------------- ----------------- 24.8/44.8 MB 20.5 MB/s eta 0:00:01\n",
      "   ----------------------- ---------------- 25.8/44.8 MB 20.5 MB/s eta 0:00:01\n",
      "   ----------------------- ---------------- 26.7/44.8 MB 19.8 MB/s eta 0:00:01\n",
      "   ------------------------ --------------- 27.6/44.8 MB 20.5 MB/s eta 0:00:01\n",
      "   ------------------------- -------------- 28.8/44.8 MB 19.8 MB/s eta 0:00:01\n",
      "   -------------------------- ------------- 29.6/44.8 MB 21.1 MB/s eta 0:00:01\n",
      "   -------------------------- ------------- 30.2/44.8 MB 20.5 MB/s eta 0:00:01\n",
      "   --------------------------- ------------ 31.3/44.8 MB 19.8 MB/s eta 0:00:01\n",
      "   ---------------------------- ----------- 32.1/44.8 MB 19.9 MB/s eta 0:00:01\n",
      "   ----------------------------- ---------- 33.3/44.8 MB 19.8 MB/s eta 0:00:01\n",
      "   ------------------------------ --------- 34.3/44.8 MB 19.8 MB/s eta 0:00:01\n",
      "   ------------------------------- -------- 35.2/44.8 MB 19.8 MB/s eta 0:00:01\n",
      "   -------------------------------- ------- 36.1/44.8 MB 20.5 MB/s eta 0:00:01\n",
      "   --------------------------------- ------ 37.3/44.8 MB 20.5 MB/s eta 0:00:01\n",
      "   ---------------------------------- ----- 38.5/44.8 MB 21.1 MB/s eta 0:00:01\n",
      "   ---------------------------------- ----- 39.0/44.8 MB 19.9 MB/s eta 0:00:01\n",
      "   ----------------------------------- ---- 40.0/44.8 MB 20.5 MB/s eta 0:00:01\n",
      "   ------------------------------------ --- 41.2/44.8 MB 21.1 MB/s eta 0:00:01\n",
      "   ------------------------------------- -- 42.0/44.8 MB 21.8 MB/s eta 0:00:01\n",
      "   -------------------------------------- - 43.1/44.8 MB 21.1 MB/s eta 0:00:01\n",
      "   ---------------------------------------  43.8/44.8 MB 20.5 MB/s eta 0:00:01\n",
      "   ---------------------------------------  44.4/44.8 MB 19.8 MB/s eta 0:00:01\n",
      "   ---------------------------------------  44.8/44.8 MB 19.2 MB/s eta 0:00:01\n",
      "   ---------------------------------------  44.8/44.8 MB 19.2 MB/s eta 0:00:01\n",
      "   ---------------------------------------  44.8/44.8 MB 19.2 MB/s eta 0:00:01\n",
      "   ---------------------------------------  44.8/44.8 MB 19.2 MB/s eta 0:00:01\n",
      "   ---------------------------------------- 44.8/44.8 MB 13.6 MB/s eta 0:00:00\n",
      "Installing collected packages: flatbuffers, protobuf, opencv-python, opencv-contrib-python, absl-py, sounddevice, mediapipe\n",
      "Successfully installed absl-py-2.0.0 flatbuffers-23.5.26 mediapipe-0.10.8 opencv-contrib-python-4.8.1.78 opencv-python-4.8.1.78 protobuf-3.20.3 sounddevice-0.4.6\n"
     ]
    }
   ],
   "source": [
    "!pip install mediapipe opencv-python"
   ]
  },
  {
   "cell_type": "code",
   "execution_count": 1,
   "id": "5969f4c3",
   "metadata": {},
   "outputs": [],
   "source": [
    "import cv2\n",
    "import mediapipe as mp\n",
    "import numpy as np\n",
    "\n",
    "# Set up media pipe\n",
    "mp_drawing = mp.solutions.drawing_utils\n",
    "# Import pose estimation model\n",
    "mp_pose = mp.solutions.pose"
   ]
  },
  {
   "cell_type": "code",
   "execution_count": 2,
   "id": "27cd890e",
   "metadata": {},
   "outputs": [],
   "source": [
    "# VIDEO FEED\n",
    "\n",
    "# Open the video file\n",
    "video_path = r'videos\\1_backhand.mp4'\n",
    "cap = cv2.VideoCapture(video_path)\n",
    "\n",
    "while cap.isOpened():\n",
    "    # Read a frame from the video\n",
    "    # ret -> return variable\n",
    "    # frame -> image from cap\n",
    "    ret, frame = cap.read()\n",
    "    \n",
    "    # Display the frame with results\n",
    "    cv2.imshow('UltiThrow', frame)\n",
    "    \n",
    "    # Break the loop if 'q' is pressed\n",
    "    if cv2.waitKey(10) & 0xFF == ord('q'):\n",
    "        break\n",
    "\n",
    "# Release the video capture object and close the window\n",
    "cap.release()\n",
    "cv2.destroyAllWindows()"
   ]
  },
  {
   "cell_type": "markdown",
   "id": "55fb2c16",
   "metadata": {},
   "source": [
    "# Make detections"
   ]
  },
  {
   "cell_type": "markdown",
   "id": "6549de9d",
   "metadata": {},
   "source": [
    "mp_pose.Pose()\n",
    "min_detection_confidence\n",
    "min_tracking_confidence\n",
    "\n",
    "pose"
   ]
  },
  {
   "cell_type": "code",
   "execution_count": 2,
   "id": "7110cca5",
   "metadata": {},
   "outputs": [],
   "source": [
    "# Open the video file\n",
    "video_path = r'videos\\1_backhand.mp4'\n",
    "cap = cv2.VideoCapture(0)\n",
    "\n",
    "# Get the original width and height of the video\n",
    "original_width = int(cap.get(cv2.CAP_PROP_FRAME_WIDTH))\n",
    "original_height = int(cap.get(cv2.CAP_PROP_FRAME_HEIGHT))\n",
    "\n",
    "# Set up mediapipe instance\n",
    "with mp_pose.Pose(min_detection_confidence=0.5, min_tracking_confidence=0.5) as pose:\n",
    "    while cap.isOpened():\n",
    "        ret, frame = cap.read()\n",
    "        \n",
    "        if not ret:\n",
    "            print(\"End of video.\")\n",
    "            break  # Exit the loop when the video is finished.\n",
    "        \n",
    "\n",
    "        # Detect stuff and render\n",
    "        \n",
    "        # Recolor image\n",
    "        # default of opencv is rgb, that's why we recolor\n",
    "        image = cv2.cvtColor(frame, cv2.COLOR_BGR2RGB)\n",
    "        # set the image to not be modified and save memory\n",
    "        image.flags.writeable = False\n",
    "        \n",
    "        # Make detection\n",
    "        results = pose.process(image) # get detection of pose\n",
    "        \n",
    "        # Recolor back to BGR for opencv\n",
    "        image.flags.writeable = True\n",
    "        image = cv2.cvtColor(image, cv2.COLOR_RGB2BGR)\n",
    "        \n",
    "        # Render detections\n",
    "        # draw_landamarks -> utils to draw in image\n",
    "        # results.pose_landmarks -> coordenates\n",
    "        # mp_pose.POSE_CONNECTIONS -> how body points are conencted inside model\n",
    "        mp_drawing.draw_landmarks(image, results.pose_landmarks, mp_pose.POSE_CONNECTIONS)\n",
    "\n",
    "        # Update desired height and width before resizing\n",
    "        desired_height, desired_width = original_height // 2, original_width // 2\n",
    "\n",
    "        # Resize the image\n",
    "        image = cv2.resize(image, (desired_width, desired_height))\n",
    "\n",
    "        # Display the resized image\n",
    "        cv2.imshow('UltiThrow', image)\n",
    "        if cv2.waitKey(1) & 0xFF == ord('q'):\n",
    "            break\n",
    "\n",
    "    # Release the video capture object and close the window\n",
    "    cap.release()\n",
    "    cv2.destroyAllWindows()"
   ]
  },
  {
   "cell_type": "markdown",
   "id": "fc006634",
   "metadata": {},
   "source": [
    "# Extract landmarks"
   ]
  },
  {
   "cell_type": "code",
   "execution_count": 25,
   "id": "4b95f98e",
   "metadata": {},
   "outputs": [],
   "source": [
    "# Open the video file\n",
    "video_path = r'videos\\1_backhand_front.mp4'\n",
    "cap = cv2.VideoCapture(video_path)\n",
    "\n",
    "# Get the original width and height of the video\n",
    "original_width = int(cap.get(cv2.CAP_PROP_FRAME_WIDTH))\n",
    "original_height = int(cap.get(cv2.CAP_PROP_FRAME_HEIGHT))\n",
    "\n",
    "# Set up mediapipe instance\n",
    "with mp_pose.Pose(min_detection_confidence=0.6, min_tracking_confidence=0.5) as pose:\n",
    "    while cap.isOpened():\n",
    "        ret, frame = cap.read()\n",
    "        \n",
    "        if not ret:\n",
    "            print(\"End of video.\")\n",
    "            break  # Exit the loop when the video is finished.\n",
    "        \n",
    "\n",
    "        # Detect stuff and render\n",
    "        \n",
    "        # Recolor image\n",
    "        # default of opencv is rgb, that's why we recolor\n",
    "        image = cv2.cvtColor(frame, cv2.COLOR_BGR2RGB)\n",
    "        # set the image to not be modified and save memory\n",
    "        image.flags.writeable = False\n",
    "        \n",
    "        # Make detection\n",
    "        results = pose.process(image) # get detection of pose\n",
    "        \n",
    "        # Recolor back to BGR for opencv\n",
    "        image.flags.writeable = True\n",
    "        image = cv2.cvtColor(image, cv2.COLOR_RGB2BGR)\n",
    "        \n",
    "        # Extract landmarks\n",
    "        try:\n",
    "            landmarks = results.pose_landmarks.landmark\n",
    "        except:\n",
    "            pass\n",
    "        \n",
    "        # Render detections\n",
    "        # draw_landamarks -> utils to draw in image\n",
    "        # results.pose_landmarks -> coordenates\n",
    "        # mp_pose.POSE_CONNECTIONS -> how body points are conencted inside model\n",
    "        mp_drawing.draw_landmarks(image, results.pose_landmarks, mp_pose.POSE_CONNECTIONS)\n",
    "\n",
    "        # Update desired height and width before resizing\n",
    "        desired_height, desired_width = original_height // 2, original_width // 2\n",
    "\n",
    "        # Resize the image\n",
    "        image = cv2.resize(image, (desired_width, desired_height))\n",
    "\n",
    "        # Display the resized image\n",
    "        cv2.imshow('UltiThrow', image)\n",
    "        if cv2.waitKey(1) & 0xFF == ord('q'):\n",
    "            break\n",
    "\n",
    "    # Release the video capture object and close the window\n",
    "    cap.release()\n",
    "    cv2.destroyAllWindows()"
   ]
  },
  {
   "cell_type": "code",
   "execution_count": 14,
   "id": "1304fab0",
   "metadata": {
    "scrolled": true
   },
   "outputs": [
    {
     "data": {
      "text/plain": [
       "33"
      ]
     },
     "execution_count": 14,
     "metadata": {},
     "output_type": "execute_result"
    }
   ],
   "source": [
    "len(landmarks)"
   ]
  },
  {
   "cell_type": "code",
   "execution_count": 21,
   "id": "c7c766d1",
   "metadata": {
    "scrolled": true
   },
   "outputs": [
    {
     "name": "stdout",
     "output_type": "stream",
     "text": [
      "0\n",
      "1\n",
      "2\n",
      "3\n",
      "4\n",
      "5\n",
      "6\n",
      "7\n",
      "8\n",
      "9\n",
      "10\n",
      "11\n",
      "12\n",
      "13\n",
      "14\n",
      "15\n",
      "16\n",
      "17\n",
      "18\n",
      "19\n",
      "20\n",
      "21\n",
      "22\n",
      "23\n",
      "24\n",
      "25\n",
      "26\n",
      "27\n",
      "28\n",
      "29\n",
      "30\n",
      "31\n",
      "32\n"
     ]
    }
   ],
   "source": [
    "for lndmrk in mp_pose.PoseLandmark:\n",
    "    print(lndmrk)"
   ]
  },
  {
   "cell_type": "code",
   "execution_count": 26,
   "id": "eddffb66",
   "metadata": {},
   "outputs": [
    {
     "data": {
      "text/plain": [
       "x: 0.50659496\n",
       "y: 0.36798444\n",
       "z: -0.059700783\n",
       "visibility: 0.96365255"
      ]
     },
     "execution_count": 26,
     "metadata": {},
     "output_type": "execute_result"
    }
   ],
   "source": [
    "landmarks[mp_pose.PoseLandmark.LEFT_ELBOW.value] # how to access the values"
   ]
  },
  {
   "cell_type": "markdown",
   "id": "e870bdae",
   "metadata": {},
   "source": [
    "Extracting information about backhand from a rigth-hand person video taken from front perspective.\n",
    "\n",
    "12 - right shoulder\n",
    "14 - right elbow\n",
    "16 - right wrist"
   ]
  },
  {
   "cell_type": "code",
   "execution_count": 27,
   "id": "8ee380bc",
   "metadata": {},
   "outputs": [
    {
     "data": {
      "text/plain": [
       "x: 0.4252391\n",
       "y: 0.26356584\n",
       "z: -0.052073795\n",
       "visibility: 0.99997765"
      ]
     },
     "execution_count": 27,
     "metadata": {},
     "output_type": "execute_result"
    }
   ],
   "source": [
    "landmarks[mp_pose.PoseLandmark.RIGHT_SHOULDER.value]"
   ]
  },
  {
   "cell_type": "code",
   "execution_count": 28,
   "id": "19e27153",
   "metadata": {},
   "outputs": [
    {
     "data": {
      "text/plain": [
       "x: 0.40820667\n",
       "y: 0.3729021\n",
       "z: -0.01889005\n",
       "visibility: 0.98281825"
      ]
     },
     "execution_count": 28,
     "metadata": {},
     "output_type": "execute_result"
    }
   ],
   "source": [
    "landmarks[mp_pose.PoseLandmark.RIGHT_ELBOW.value]"
   ]
  },
  {
   "cell_type": "code",
   "execution_count": 29,
   "id": "a10ac770",
   "metadata": {},
   "outputs": [
    {
     "data": {
      "text/plain": [
       "x: 0.38858938\n",
       "y: 0.4651661\n",
       "z: -0.08842416\n",
       "visibility: 0.9647229"
      ]
     },
     "execution_count": 29,
     "metadata": {},
     "output_type": "execute_result"
    }
   ],
   "source": [
    "landmarks[mp_pose.PoseLandmark.RIGHT_WRIST.value]"
   ]
  },
  {
   "cell_type": "markdown",
   "id": "e7f22735",
   "metadata": {},
   "source": [
    "# Calculate angles"
   ]
  },
  {
   "cell_type": "code",
   "execution_count": 25,
   "id": "52c3929a",
   "metadata": {},
   "outputs": [],
   "source": [
    "def calculate_angle(a, b, c): #first, mid and end points\n",
    "    a = np.array(a)\n",
    "    b = np.array(b)\n",
    "    c = np.array(c)\n",
    "    \n",
    "    radians = np.arctan2(c[1]-b[1], c[0] - b[0]) - np.arctan2(a[1]-b[1], a[0] - b[0])\n",
    "    angle = np.abs(radians * 180.0 / np.pi)\n",
    "    \n",
    "    if angle > 180.0:\n",
    "        angle = 360 - angle\n",
    "    return angle"
   ]
  },
  {
   "cell_type": "code",
   "execution_count": 39,
   "id": "b1b5f2ae",
   "metadata": {},
   "outputs": [],
   "source": []
  },
  {
   "cell_type": "code",
   "execution_count": 8,
   "id": "3f83c1a4",
   "metadata": {},
   "outputs": [],
   "source": [
    "shoulder = [landmarks[mp_pose.PoseLandmark.RIGHT_SHOULDER.value].x, landmarks[mp_pose.PoseLandmark.RIGHT_SHOULDER.value].y]\n",
    "elbow = [landmarks[mp_pose.PoseLandmark.RIGHT_SHOULDER.value].x, landmarks[mp_pose.PoseLandmark.RIGHT_SHOULDER.value].y]\n",
    "wrist = [landmarks[mp_pose.PoseLandmark.RIGHT_SHOULDER.value].x, landmarks[mp_pose.PoseLandmark.RIGHT_SHOULDER.value].y]"
   ]
  },
  {
   "cell_type": "code",
   "execution_count": 37,
   "id": "d0a1bae1",
   "metadata": {},
   "outputs": [
    {
     "data": {
      "text/plain": [
       "([0.42523908615112305, 0.2635658383369446],\n",
       " [0.42523908615112305, 0.2635658383369446],\n",
       " [0.42523908615112305, 0.2635658383369446])"
      ]
     },
     "execution_count": 37,
     "metadata": {},
     "output_type": "execute_result"
    }
   ],
   "source": [
    "shoulder, elbow, wrist"
   ]
  },
  {
   "cell_type": "code",
   "execution_count": 39,
   "id": "64d9e94b",
   "metadata": {},
   "outputs": [
    {
     "data": {
      "text/plain": [
       "0.0"
      ]
     },
     "execution_count": 39,
     "metadata": {},
     "output_type": "execute_result"
    }
   ],
   "source": [
    "calculate_angle(shoulder, elbow, wrist)"
   ]
  },
  {
   "cell_type": "markdown",
   "id": "94f69529",
   "metadata": {},
   "source": [
    "# Working angle for 2D"
   ]
  },
  {
   "cell_type": "code",
   "execution_count": 48,
   "id": "41f47ec7",
   "metadata": {},
   "outputs": [],
   "source": [
    "# Open the video file\n",
    "video_path = r'videos\\0_backhand_front.mp4'\n",
    "cap = cv2.VideoCapture(video_path)\n",
    "\n",
    "# Get the original width and height of the video\n",
    "original_width = int(cap.get(cv2.CAP_PROP_FRAME_WIDTH))\n",
    "original_height = int(cap.get(cv2.CAP_PROP_FRAME_HEIGHT))\n",
    "\n",
    "# Update desired height and width before resizing\n",
    "desired_height, desired_width = original_height // 2, original_width // 2\n",
    "#desired_height, desired_width = original_height, original_width\n",
    "# Set up mediapipe instance\n",
    "with mp_pose.Pose(min_detection_confidence=0.6, min_tracking_confidence=0.5) as pose:\n",
    "    while cap.isOpened():\n",
    "        ret, frame = cap.read()\n",
    "        \n",
    "        if not ret:\n",
    "            print(\"End of video.\")\n",
    "            break  # Exit the loop when the video is finished.\n",
    "        \n",
    "\n",
    "        # Detect stuff and render\n",
    "\n",
    "        # Resize the image\n",
    "        frame = cv2.resize(frame, (desired_width, desired_height))\n",
    "        \n",
    "        # Recolor image\n",
    "        # default of opencv is rgb, that's why we recolor\n",
    "        image = cv2.cvtColor(frame, cv2.COLOR_BGR2RGB)\n",
    "        # set the image to not be modified and save memory\n",
    "        image.flags.writeable = False\n",
    "        \n",
    "        # Make detection\n",
    "        results = pose.process(image) # get detection of pose\n",
    "        \n",
    "        # Recolor back to BGR for opencv\n",
    "        image.flags.writeable = True\n",
    "        image = cv2.cvtColor(image, cv2.COLOR_RGB2BGR)\n",
    "        \n",
    "        # Extract landmarks\n",
    "        try:\n",
    "            landmarks = results.pose_landmarks.landmark\n",
    "            shoulder_right = [landmarks[mp_pose.PoseLandmark.RIGHT_SHOULDER.value].x, landmarks[mp_pose.PoseLandmark.RIGHT_SHOULDER.value].y]\n",
    "            elbow_right = [landmarks[mp_pose.PoseLandmark.RIGHT_ELBOW.value].x, landmarks[mp_pose.PoseLandmark.RIGHT_ELBOW.value].y]\n",
    "            wrist_right = [landmarks[mp_pose.PoseLandmark.RIGHT_WRIST.value].x, landmarks[mp_pose.PoseLandmark.RIGHT_WRIST.value].y]\n",
    "            \n",
    "            shoulder_left = [landmarks[mp_pose.PoseLandmark.LEFT_SHOULDER.value].x, landmarks[mp_pose.PoseLandmark.LEFT_SHOULDER.value].y]\n",
    "            elbow_left = [landmarks[mp_pose.PoseLandmark.LEFT_ELBOW.value].x, landmarks[mp_pose.PoseLandmark.LEFT_ELBOW.value].y]\n",
    "            wrist_left = [landmarks[mp_pose.PoseLandmark.LEFT_WRIST.value].x, landmarks[mp_pose.PoseLandmark.LEFT_WRIST.value].y]\n",
    "            \n",
    "            # calculate angle\n",
    "            angle_right = calculate_angle(shoulder_right, elbow_right, wrist_right)\n",
    "            angle_left = calculate_angle(shoulder_left, elbow_left, wrist_left)\n",
    "            \n",
    "            # display value\n",
    "            cv2.putText(image, str(round(angle_right, 2)), \n",
    "                        tuple(np.multiply(elbow_right, [desired_width, desired_height]).astype(int)),\n",
    "                              cv2.FONT_HERSHEY_SIMPLEX, 0.5, (255,255,255), 2, cv2.LINE_AA)\n",
    "            \n",
    "            #mp_drawing.plot_landmarks(results.pose_world_landmarks, mp_pose.POSE_CONNECTIONS)\n",
    "            # elbow, [original_width, original_height] -> normalized coordinates\n",
    "        except Exception as e:\n",
    "            print(f\"Error: {e}\")\n",
    "            pass\n",
    "        \n",
    "        # Render detections\n",
    "        # draw_landamarks -> utils to draw in image\n",
    "        # results.pose_landmarks -> coordenates\n",
    "        # mp_pose.POSE_CONNECTIONS -> how body points are conencted inside model\n",
    "        mp_drawing.draw_landmarks(image, results.pose_landmarks, mp_pose.POSE_CONNECTIONS)\n",
    "\n",
    "        \n",
    "\n",
    "        # Display the resized image\n",
    "        cv2.imshow('UltiThrow', image)\n",
    "        if cv2.waitKey(1) & 0xFF == ord('q'):\n",
    "            break\n",
    "\n",
    "    # Release the video capture object and close the window\n",
    "    cap.release()\n",
    "    cv2.destroyAllWindows()"
   ]
  },
  {
   "cell_type": "code",
   "execution_count": 46,
   "id": "75de52ec",
   "metadata": {},
   "outputs": [
    {
     "name": "stdout",
     "output_type": "stream",
     "text": [
      "107.94340661816396\n",
      "106.90057468495392\n",
      "100.16793586462508\n",
      "98.32266100790989\n",
      "90.91139506559237\n",
      "91.08120677012758\n",
      "102.99782799586123\n",
      "95.54898322659973\n",
      "98.00621974662533\n",
      "118.15293888729305\n",
      "107.6529017509565\n",
      "120.8359845466983\n",
      "117.62075715323407\n",
      "102.49670522886305\n",
      "128.32654235504543\n",
      "127.96462893727912\n",
      "133.33779754825034\n",
      "133.6995235504813\n",
      "135.45033870556946\n",
      "129.54591481107406\n",
      "136.56134531545925\n",
      "118.6099583355641\n",
      "101.94162963085586\n",
      "112.04407043582472\n",
      "112.7601300539089\n",
      "108.52144513896287\n",
      "104.09885124807228\n",
      "96.67579675212302\n",
      "90.28332988200698\n",
      "97.54225653465176\n",
      "98.936017490532\n",
      "100.66594757644579\n",
      "98.5924975850335\n",
      "93.53234751885455\n",
      "90.43465307040555\n",
      "93.29086775392467\n"
     ]
    }
   ],
   "source": []
  },
  {
   "cell_type": "code",
   "execution_count": null,
   "id": "9edb85b6",
   "metadata": {},
   "outputs": [],
   "source": []
  }
 ],
 "metadata": {
  "kernelspec": {
   "display_name": "Python 3 (ipykernel)",
   "language": "python",
   "name": "python3"
  },
  "language_info": {
   "codemirror_mode": {
    "name": "ipython",
    "version": 3
   },
   "file_extension": ".py",
   "mimetype": "text/x-python",
   "name": "python",
   "nbconvert_exporter": "python",
   "pygments_lexer": "ipython3",
   "version": "3.11.5"
  }
 },
 "nbformat": 4,
 "nbformat_minor": 5
}
